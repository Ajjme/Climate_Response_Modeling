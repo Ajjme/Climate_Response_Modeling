{
  "nbformat": 4,
  "nbformat_minor": 0,
  "metadata": {
    "colab": {
      "provenance": [],
      "authorship_tag": "ABX9TyMtJOacray4dIp5Vo8dEl4n",
      "include_colab_link": true
    },
    "kernelspec": {
      "name": "python3",
      "display_name": "Python 3"
    },
    "language_info": {
      "name": "python"
    }
  },
  "cells": [
    {
      "cell_type": "markdown",
      "metadata": {
        "id": "view-in-github",
        "colab_type": "text"
      },
      "source": [
        "<a href=\"https://colab.research.google.com/github/Ajjme/Climate_Response_Modeling/blob/main/Earth_Heat_1.ipynb\" target=\"_parent\"><img src=\"https://colab.research.google.com/assets/colab-badge.svg\" alt=\"Open In Colab\"/></a>"
      ]
    },
    {
      "cell_type": "code",
      "execution_count": 1,
      "metadata": {
        "id": "33geSdVvqyHY"
      },
      "outputs": [],
      "source": [
        "import numpy as np\n",
        "import matplotlib.pyplot as plt\n",
        "#import ode4u as m\n",
        "#import multivarious as m"
      ]
    },
    {
      "cell_type": "markdown",
      "source": [
        "# One layer heat energy model for the earth"
      ],
      "metadata": {
        "id": "6zUshDGiq6g7"
      }
    },
    {
      "cell_type": "code",
      "source": [
        "# this is the ODE4u function\n",
        "def ode4u(odefun, time, x0, u=None, c=None):\n",
        "    \"\"\"\n",
        "    Solve a system of nonhomogeneous ODEs using the 4th-order Runge-Kutta method.\n",
        "    (it depends on not just time and state but also external inputs (u) and constanstant (c))\n",
        "\n",
        "    Parameters:\n",
        "        odefun : function (t, x, u, c) -> (dxdt, y)\n",
        "                 returns state derivative and output as arrays\n",
        "        time   : time values at which the solution is computed.\n",
        "                 p-dimensional array\n",
        "        x0     : n-dimensional array, state at time[0].\n",
        "        u      : (m x p) dimensional array\n",
        "                 optional input sampled at each time step.\n",
        "        c      : optional constants passed to odefun.\n",
        "\n",
        "    Returns:\n",
        "        time   : ndarray, shape (1, p)\n",
        "        x_sol  : ndarray, shape (n, p)\n",
        "        x_drv  : ndarray, shape (n, p)\n",
        "        y_sol  : ndarray, shape (m, p)\n",
        "    \"\"\"\n",
        "\n",
        "    time   = np.asarray(time)\n",
        "    x0     = np.asarray(x0).flatten()\n",
        "    points = len(time) # the total number of time steps\n",
        "\n",
        "    # create defaults if not provided\n",
        "    if c is None:\n",
        "        c = 0\n",
        "    if u is None:\n",
        "        u = np.zeros((1, points))\n",
        "    else:\n",
        "        u = np.asarray(u)\n",
        "\n",
        "    # verify inputs recieved are in 2D array shape\n",
        "    if u.ndim == 1:\n",
        "        u = u[np.newaxis, :]\n",
        "\n",
        "    if u.shape[1] < points:\n",
        "        pad_width = points - u.shape[1]\n",
        "        u = np.pad(u, ((0, 0), (0, pad_width)), mode='constant')\n",
        "\n",
        "    # state derivitives and outputs at time[0]\n",
        "    dxdt0, y0 = odefun(time[0], x0, u[:, 0], c)\n",
        "\n",
        "    n = x0.size                 # number of states\n",
        "    m = np.asarray(y0).size     # nuber of outputs\n",
        "\n",
        "    # allocate memory\n",
        "    x_sol = np.ones([n, points])*np.nan\n",
        "    x_drv = np.ones([n, points])*np.nan\n",
        "    y_sol = np.ones([m, points])*np.nan\n",
        "\n",
        "    x_sol[:, 0] = x0    # states\n",
        "    x_drv[:, 0] = dxdt0 # state derivitives\n",
        "    y_sol[:, 0] = y0    # outputs\n",
        "\n",
        "    for p in range(points - 1):  # time stepping loop and main integration\n",
        "        t = time[p]\n",
        "        dt = time[p + 1] - t\n",
        "        dt2 = dt / 2.0\n",
        "\n",
        "        u_mid = (u[:, p] + u[:, p + 1]) / 2.0\n",
        "\n",
        "        # intermediate dervitives\n",
        "        dxdt1, _ = odefun(t + dt2, x0 + dxdt0 * dt2, u_mid, c)\n",
        "        dxdt2, _ = odefun(t + dt2, x0 + dxdt1 * dt2, u_mid, c)\n",
        "        dxdt3, _ = odefun(t + dt,  x0 + dxdt2 * dt, u[:, p + 1], c)\n",
        "\n",
        "        # state update using the intermediate derivities\n",
        "        x0 = x0 + ( dxdt0 + 2 * (dxdt1 + dxdt2) + dxdt3 ) * dt / 6.0\n",
        "\n",
        "        # state derivitives and outputs at start of time (p+1)\n",
        "        dxdt0, y0 = odefun(time[p + 1], x0, u[:, p + 1], c)\n",
        "\n",
        "        # save states (solution), state derivitives, and outputs\n",
        "        x_sol[:, p+1] = x0    # state\n",
        "        x_drv[:, p+1] = dxdt1 # state derivitives\n",
        "        y_sol[:, p+1] = y0    # output\n",
        "\n",
        "        # safety - incase NaN or Inf\n",
        "#       if not np.all(np.abs(x0) > 1e12):\n",
        "        if not np.all(np.isfinite(x0)):\n",
        "            break\n",
        "\n",
        "    return time, x_sol, x_drv, y_sol"
      ],
      "metadata": {
        "id": "HJereCGHqzKs"
      },
      "execution_count": 2,
      "outputs": []
    },
    {
      "cell_type": "code",
      "source": [
        "#!/usr/bin/env python3\n",
        "\n",
        "# Sources\n",
        "# https://en.wikipedia.org/wiki/Idealized_greenhouse_model\n",
        "# https://en.wikipedia.org/wiki/Heat_transfer_coefficient\n",
        "# https://www.engineersedge.com/thermodynamics/overall_heat_transfer-table.htm\n",
        "# https://enghandbook.com/thermodynamics/heat-transfer/\n",
        "\n",
        "''' ... in console\n",
        "import importlib , earth_heat_1\n",
        "importlib.reload(earth_heat_1)\n",
        "'''\n",
        "\n",
        "# constants\n",
        "# ---------\n",
        "class c:\n",
        "    pi  = np.pi\n",
        "    c   =  299.792458e6       # speed of light  m/s\n",
        "    h   =    6.62607015e-34   # Planck's constant  J/Hz\n",
        "    k   =    1.380649e-23     # Boltzmann's constant J/deg K\n",
        "    sbc =    5.670367e-8;     # Stefan-Boltzmann constant  ... W/sq.m/deg K^4\n",
        "    Rs  =    6.9570e08        # radius of sun, m\n",
        "    D   =    1.4960e11        # sun - to - earth distance, m\n",
        "    Re  =    6.3567523e6      # radius of earth, m\n",
        "    Ts  = 5777.               # sun temperature, K\n",
        "    aa  =    0.30             # earth albedo 0.3 to 0.4 of solar reflected\n",
        "    ee  =    0.78       # ??  # emissivity without GHG: 0.78  with GHG: 0.80\n",
        "    sec_per_yr = 365*24*3600  # seconds per year\n",
        "    years = 1000              # years in the simulation\n",
        "    ocn_depth = 1500    # ??  # depth of ocean m\n",
        "    ocn_density = 1023.6      # density of seawater kg/cu.m\n",
        "    ocn_shc = 4005            # specific heat capacity ocean water J/(kg K)\n",
        "\n",
        "# computed constants\n",
        "# ------------------\n",
        "    # solar constant W/sq.m  ...\n",
        "    solar_const = sbc*Ts**4 * 4*pi*Rs**2 / (4*pi*D**2)\n",
        "    # ocean heat capacity per sq.m J/(sq.m K) ...\n",
        "    ocn_ahc = ocn_shc * ocn_density * ocn_depth\n",
        "\n",
        "# define the dynamical system in terms of a set of o.d.e's\n",
        "# --------------------------------------------------------\n",
        "def sys(t, x, u, c):\n",
        "    \"\"\"\n",
        "    compute the state derivive dxdt at any point in time, any state, any input\n",
        "    x =  Q_ocn   state  ... heat in ocean J/sq.m\n",
        "    \"\"\"\n",
        "    Q_ocn = x # extract individual states from the vector of states , J/sq.m\n",
        "\n",
        "    T_ocn = Q_ocn / c.ocn_ahc      #   ocean    deg K\n",
        "\n",
        "    dQ_ocn_dt = u[0]  - c.sbc*T_ocn**4\n",
        "\n",
        "#   print(\"T_atm=\",T_atm,\"Q_atm=\",Q_atm, \"dQ_atm_dt=\", dQ_atm_dt, \"T_ocn=\",T_ocn, \"Q_ocn=\", Q_ocn, \"dQ_ocn_dt=\", dQ_ocn_dt)\n",
        "\n",
        "    dxdt = np.array( dQ_ocn_dt ) # rate of change of heat per sq.m\n",
        "\n",
        "    y = np.array( T_ocn ) # temperature deg C\n",
        "\n",
        "    return dxdt, y\n",
        "\n",
        "\n",
        "# run the simulation\n",
        "# --------------------------------------------------------\n",
        "def run():\n",
        "# time\n",
        "# ----\n",
        "    time_init = 0.0                              # initial time, s\n",
        "    time_end  = c.sec_per_yr * c.years           # final time, s\n",
        "    time_step = c.sec_per_yr/12                  # time step, s\n",
        "    N = int((time_end - time_init) / time_step)  # number of time steps\n",
        "    time = time_init + np.linspace( 0, N-1, N )*time_step # time sequence\n",
        "\n",
        "# initial state values\n",
        "# --------------------\n",
        "# K initial temp in the atmosphere and oceans\n",
        "    x_init = np.array( [ c.ocn_ahc*0 ] )\n",
        "\n",
        "# external forcing\n",
        "# --------------------\n",
        "# short wavelength solar input over the surface W/sq.m\n",
        "    u = (1-c.aa)*(c.solar_const/4)*np.ones(N)\n",
        "\n",
        "# solve the ode's for heat and temperature in the atmosphere and ocean\n",
        "# --------------------------------------------------------------------\n",
        "    time, x, x_drv, y = ode4u( sys , time , x_init , u , c )\n",
        "\n",
        "    nY = len(y)\n",
        "\n",
        "    print(\"nY=\",nY)\n",
        "\n",
        "# print results at 10 years and at steady state:\n",
        "# ----------------------------------------------------\n",
        "    print(\"The temperatures of the ocean\")\n",
        "    print(\"year=\",time[120]/c.sec_per_yr,\"T_ocn=\",y[0,120]-273)\n",
        "    print(\"year=\",time[-1]/c.sec_per_yr,\"T_ocn=\",y[0,-1]-273)\n",
        "    print(\"sbc=\",c.sbc, \"solar constant=\", c.solar_const, \"u=\",u[0])\n",
        "\n",
        "# ---------------------------------------------------------- Plots\n",
        "    fontsize = 9\n",
        "    plt.rcParams['font.size'] = fontsize\n",
        "    plt.ion()                 # interactive mode\n",
        "\n",
        "    f1 = plt.figure(1)\n",
        "\n",
        "#   fig=plt.figure(figsize=(4.2,4.3),dpi=300);\n",
        "#   plt.subplot(3,1,1)\n",
        "    plt.plot(time/c.sec_per_yr, y[0,:]-273, \"-\", color='MidnightBlue', label=\"ocean\")\n",
        "    plt.ylabel('Temperature (°C)')\n",
        "    plt.xlabel('Time (years)')\n",
        "#   plt.xlim([0,200])\n",
        "#   plt.ylim([0,4])\n",
        "#   plt.title('Atm/ Ocean temperature anomalies given a sudden 2x CO฀ increase')\n",
        "    plt.legend(loc='lower right',fontsize=fontsize-1)\n",
        "    plt.grid(lw=0.25)\n",
        "    plt.title(\"(a)\",loc=\"left\",fontsize=fontsize)\n",
        "\n",
        "    plt.show()     # close the plot window to end the script\n"
      ],
      "metadata": {
        "id": "h7I4seR1qzdh"
      },
      "execution_count": 3,
      "outputs": []
    },
    {
      "cell_type": "code",
      "source": [
        "run()"
      ],
      "metadata": {
        "id": "USka6_Q4q3pQ",
        "outputId": "9e25c599-38de-48ae-a0b0-490c8c5c359f",
        "colab": {
          "base_uri": "https://localhost:8080/",
          "height": 553
        }
      },
      "execution_count": 4,
      "outputs": [
        {
          "output_type": "stream",
          "name": "stdout",
          "text": [
            "nY= 1\n",
            "The temperatures of the ocean\n",
            "year= 10.0 T_ocn= -260.7419442580196\n",
            "year= 999.9166666666666 T_ocn= -18.195516070962412\n",
            "sbc= 5.670367e-08 solar constant= 1365.8451291489353 u= 239.02289760106365\n"
          ]
        },
        {
          "output_type": "display_data",
          "data": {
            "text/plain": [
              "<Figure size 640x480 with 1 Axes>"
            ],
            "image/png": "[encoded data removed]"
          },
          "metadata": {}
        }
      ]
    }
  ]
}